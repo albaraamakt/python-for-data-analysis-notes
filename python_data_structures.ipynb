{
 "cells": [
  {
   "cell_type": "markdown",
   "id": "f70babb9",
   "metadata": {},
   "source": [
    "# Tuples"
   ]
  },
  {
   "cell_type": "code",
   "execution_count": 136,
   "id": "9285e379",
   "metadata": {},
   "outputs": [],
   "source": [
    "tup = (3,4,5)"
   ]
  },
  {
   "cell_type": "code",
   "execution_count": 137,
   "id": "a2da6ebd",
   "metadata": {},
   "outputs": [
    {
     "data": {
      "text/plain": [
       "(3, 4, 5)"
      ]
     },
     "execution_count": 137,
     "metadata": {},
     "output_type": "execute_result"
    }
   ],
   "source": [
    "tup"
   ]
  },
  {
   "cell_type": "code",
   "execution_count": 138,
   "id": "a01889dd",
   "metadata": {},
   "outputs": [],
   "source": [
    "tup = 3,4,5"
   ]
  },
  {
   "cell_type": "code",
   "execution_count": 139,
   "id": "5dbf66ba",
   "metadata": {},
   "outputs": [
    {
     "data": {
      "text/plain": [
       "(3, 4, 5)"
      ]
     },
     "execution_count": 139,
     "metadata": {},
     "output_type": "execute_result"
    }
   ],
   "source": [
    "tup"
   ]
  },
  {
   "cell_type": "code",
   "execution_count": 140,
   "id": "23018090",
   "metadata": {},
   "outputs": [
    {
     "data": {
      "text/plain": [
       "(4, 0, 54)"
      ]
     },
     "execution_count": 140,
     "metadata": {},
     "output_type": "execute_result"
    }
   ],
   "source": [
    "tuple([4,0,54])"
   ]
  },
  {
   "cell_type": "code",
   "execution_count": 141,
   "id": "88c4abd6",
   "metadata": {},
   "outputs": [],
   "source": [
    "nested = tup, (6,7)"
   ]
  },
  {
   "cell_type": "code",
   "execution_count": 142,
   "id": "48a08e8d",
   "metadata": {},
   "outputs": [
    {
     "data": {
      "text/plain": [
       "((3, 4, 5), (6, 7))"
      ]
     },
     "execution_count": 142,
     "metadata": {},
     "output_type": "execute_result"
    }
   ],
   "source": [
    "nested"
   ]
  },
  {
   "cell_type": "code",
   "execution_count": 143,
   "id": "904471c5",
   "metadata": {},
   "outputs": [
    {
     "data": {
      "text/plain": [
       "((3, 4, 5), (6, 7), 3, 4, 5)"
      ]
     },
     "execution_count": 143,
     "metadata": {},
     "output_type": "execute_result"
    }
   ],
   "source": [
    "nested + tup"
   ]
  },
  {
   "cell_type": "code",
   "execution_count": 144,
   "id": "c64f5ff3",
   "metadata": {},
   "outputs": [
    {
     "data": {
      "text/plain": [
       "(1, [2, 3, 4])"
      ]
     },
     "execution_count": 144,
     "metadata": {},
     "output_type": "execute_result"
    }
   ],
   "source": [
    "tup = (1, [2,3])\n",
    "tup[1].append(4)\n",
    "tup"
   ]
  },
  {
   "cell_type": "code",
   "execution_count": 145,
   "id": "d3702e14",
   "metadata": {},
   "outputs": [
    {
     "data": {
      "text/plain": [
       "(1, [2, 3, 4], 1, [2, 3, 4], 1, [2, 3, 4], 1, [2, 3, 4])"
      ]
     },
     "execution_count": 145,
     "metadata": {},
     "output_type": "execute_result"
    }
   ],
   "source": [
    "tup * 4"
   ]
  },
  {
   "cell_type": "code",
   "execution_count": 146,
   "id": "a48a1eb3",
   "metadata": {},
   "outputs": [
    {
     "data": {
      "text/plain": [
       "5"
      ]
     },
     "execution_count": 146,
     "metadata": {},
     "output_type": "execute_result"
    }
   ],
   "source": [
    "tup = (4,5,6)\n",
    "a, b, c = tup\n",
    "b"
   ]
  },
  {
   "cell_type": "code",
   "execution_count": 147,
   "id": "86215e39",
   "metadata": {},
   "outputs": [],
   "source": [
    "a, b = (1, 2)"
   ]
  },
  {
   "cell_type": "code",
   "execution_count": 148,
   "id": "f883c270",
   "metadata": {},
   "outputs": [
    {
     "data": {
      "text/plain": [
       "1"
      ]
     },
     "execution_count": 148,
     "metadata": {},
     "output_type": "execute_result"
    }
   ],
   "source": [
    "a"
   ]
  },
  {
   "cell_type": "code",
   "execution_count": 149,
   "id": "e013446f",
   "metadata": {},
   "outputs": [
    {
     "data": {
      "text/plain": [
       "2"
      ]
     },
     "execution_count": 149,
     "metadata": {},
     "output_type": "execute_result"
    }
   ],
   "source": [
    "b"
   ]
  },
  {
   "cell_type": "code",
   "execution_count": 150,
   "id": "8f826028",
   "metadata": {},
   "outputs": [
    {
     "data": {
      "text/plain": [
       "(2, 1)"
      ]
     },
     "execution_count": 150,
     "metadata": {},
     "output_type": "execute_result"
    }
   ],
   "source": [
    "b, a = a, b\n",
    "a, b"
   ]
  },
  {
   "cell_type": "code",
   "execution_count": 151,
   "id": "140906d3",
   "metadata": {},
   "outputs": [],
   "source": [
    "values = 1,2,3,4,5\n",
    "a, b, *rest = values"
   ]
  },
  {
   "cell_type": "code",
   "execution_count": 152,
   "id": "59f7bc54",
   "metadata": {},
   "outputs": [
    {
     "data": {
      "text/plain": [
       "1"
      ]
     },
     "execution_count": 152,
     "metadata": {},
     "output_type": "execute_result"
    }
   ],
   "source": [
    "a"
   ]
  },
  {
   "cell_type": "code",
   "execution_count": 153,
   "id": "5ec6ab7d",
   "metadata": {},
   "outputs": [
    {
     "data": {
      "text/plain": [
       "2"
      ]
     },
     "execution_count": 153,
     "metadata": {},
     "output_type": "execute_result"
    }
   ],
   "source": [
    "b"
   ]
  },
  {
   "cell_type": "code",
   "execution_count": 154,
   "id": "e4b02fe3",
   "metadata": {},
   "outputs": [
    {
     "data": {
      "text/plain": [
       "[3, 4, 5]"
      ]
     },
     "execution_count": 154,
     "metadata": {},
     "output_type": "execute_result"
    }
   ],
   "source": [
    "rest"
   ]
  },
  {
   "cell_type": "code",
   "execution_count": 155,
   "id": "143bb29a",
   "metadata": {},
   "outputs": [],
   "source": [
    "a, b, *_ = values"
   ]
  },
  {
   "cell_type": "code",
   "execution_count": 156,
   "id": "bc928b20",
   "metadata": {},
   "outputs": [
    {
     "data": {
      "text/plain": [
       "[3, 4, 5]"
      ]
     },
     "execution_count": 156,
     "metadata": {},
     "output_type": "execute_result"
    }
   ],
   "source": [
    "_"
   ]
  },
  {
   "cell_type": "code",
   "execution_count": 157,
   "id": "69da0eb1",
   "metadata": {},
   "outputs": [
    {
     "data": {
      "text/plain": [
       "3"
      ]
     },
     "execution_count": 157,
     "metadata": {},
     "output_type": "execute_result"
    }
   ],
   "source": [
    "tup = 1,2,2,3,4,4,2\n",
    "tup.count(2)"
   ]
  },
  {
   "cell_type": "markdown",
   "id": "dd766d27",
   "metadata": {},
   "source": [
    "# List"
   ]
  },
  {
   "cell_type": "code",
   "execution_count": 158,
   "id": "0442f0d5",
   "metadata": {},
   "outputs": [],
   "source": [
    "a_list = [5, 4, 7, 'hello']"
   ]
  },
  {
   "cell_type": "code",
   "execution_count": 159,
   "id": "83cb8fbc",
   "metadata": {},
   "outputs": [],
   "source": [
    "b_list = list(tup)"
   ]
  },
  {
   "cell_type": "code",
   "execution_count": 160,
   "id": "48cd4dcd",
   "metadata": {},
   "outputs": [
    {
     "data": {
      "text/plain": [
       "[1, 2, 2, 3, 4, 4, 2]"
      ]
     },
     "execution_count": 160,
     "metadata": {},
     "output_type": "execute_result"
    }
   ],
   "source": [
    "b_list"
   ]
  },
  {
   "cell_type": "code",
   "execution_count": 161,
   "id": "c7a94444",
   "metadata": {},
   "outputs": [],
   "source": [
    "gen = range(10)"
   ]
  },
  {
   "cell_type": "code",
   "execution_count": 162,
   "id": "dc092387",
   "metadata": {},
   "outputs": [
    {
     "data": {
      "text/plain": [
       "range(0, 10)"
      ]
     },
     "execution_count": 162,
     "metadata": {},
     "output_type": "execute_result"
    }
   ],
   "source": [
    "gen"
   ]
  },
  {
   "cell_type": "code",
   "execution_count": 163,
   "id": "cc1c4ada",
   "metadata": {},
   "outputs": [
    {
     "data": {
      "text/plain": [
       "range"
      ]
     },
     "execution_count": 163,
     "metadata": {},
     "output_type": "execute_result"
    }
   ],
   "source": [
    "type(gen)"
   ]
  },
  {
   "cell_type": "code",
   "execution_count": 164,
   "id": "53e07cf9",
   "metadata": {},
   "outputs": [
    {
     "data": {
      "text/plain": [
       "[0, 1, 2, 3, 4, 5, 6, 7, 8, 9]"
      ]
     },
     "execution_count": 164,
     "metadata": {},
     "output_type": "execute_result"
    }
   ],
   "source": [
    "list(gen)"
   ]
  },
  {
   "cell_type": "code",
   "execution_count": 165,
   "id": "00f000fd",
   "metadata": {},
   "outputs": [
    {
     "data": {
      "text/plain": [
       "[1, 2, 2, 3, 4, 4, 2, 'last']"
      ]
     },
     "execution_count": 165,
     "metadata": {},
     "output_type": "execute_result"
    }
   ],
   "source": [
    "b_list.append('last')\n",
    "b_list"
   ]
  },
  {
   "cell_type": "code",
   "execution_count": 166,
   "id": "b99ae29b",
   "metadata": {},
   "outputs": [
    {
     "data": {
      "text/plain": [
       "[1, 'second', 2, 2, 3, 4, 4, 2, 'last']"
      ]
     },
     "execution_count": 166,
     "metadata": {},
     "output_type": "execute_result"
    }
   ],
   "source": [
    "b_list.insert(1, 'second')\n",
    "b_list"
   ]
  },
  {
   "cell_type": "code",
   "execution_count": 167,
   "id": "262ae7be",
   "metadata": {},
   "outputs": [
    {
     "data": {
      "text/plain": [
       "7"
      ]
     },
     "execution_count": 167,
     "metadata": {},
     "output_type": "execute_result"
    }
   ],
   "source": [
    "a_list.pop(2)"
   ]
  },
  {
   "cell_type": "code",
   "execution_count": 168,
   "id": "181327e5",
   "metadata": {},
   "outputs": [
    {
     "data": {
      "text/plain": [
       "[5, 4, 'hello']"
      ]
     },
     "execution_count": 168,
     "metadata": {},
     "output_type": "execute_result"
    }
   ],
   "source": [
    "a_list"
   ]
  },
  {
   "cell_type": "code",
   "execution_count": 169,
   "id": "a08884d0",
   "metadata": {},
   "outputs": [
    {
     "data": {
      "text/plain": [
       "[5, 4]"
      ]
     },
     "execution_count": 169,
     "metadata": {},
     "output_type": "execute_result"
    }
   ],
   "source": [
    "a_list.remove('hello')\n",
    "a_list"
   ]
  },
  {
   "cell_type": "code",
   "execution_count": 170,
   "id": "d20dfd70",
   "metadata": {},
   "outputs": [
    {
     "data": {
      "text/plain": [
       "True"
      ]
     },
     "execution_count": 170,
     "metadata": {},
     "output_type": "execute_result"
    }
   ],
   "source": [
    "5 in a_list"
   ]
  },
  {
   "cell_type": "code",
   "execution_count": 171,
   "id": "49b11150",
   "metadata": {},
   "outputs": [
    {
     "data": {
      "text/plain": [
       "False"
      ]
     },
     "execution_count": 171,
     "metadata": {},
     "output_type": "execute_result"
    }
   ],
   "source": [
    "5 not in a_list"
   ]
  },
  {
   "cell_type": "code",
   "execution_count": 172,
   "id": "152963bf",
   "metadata": {},
   "outputs": [
    {
     "data": {
      "text/plain": [
       "[5, 4, 1, 'second', 2, 2, 3, 4, 4, 2, 'last']"
      ]
     },
     "execution_count": 172,
     "metadata": {},
     "output_type": "execute_result"
    }
   ],
   "source": [
    "a_list + b_list"
   ]
  },
  {
   "cell_type": "code",
   "execution_count": 173,
   "id": "aba05a89",
   "metadata": {},
   "outputs": [
    {
     "data": {
      "text/plain": [
       "[5, 4, 1, 'second', 2, 2, 3, 4, 4, 2, 'last']"
      ]
     },
     "execution_count": 173,
     "metadata": {},
     "output_type": "execute_result"
    }
   ],
   "source": [
    "a_list.extend(b_list)\n",
    "a_list"
   ]
  },
  {
   "cell_type": "markdown",
   "id": "5f371c17",
   "metadata": {},
   "source": [
    "extend is faster than concatenation"
   ]
  },
  {
   "cell_type": "code",
   "execution_count": 174,
   "id": "232a13d8",
   "metadata": {},
   "outputs": [
    {
     "data": {
      "text/plain": [
       "['He', 'saw', 'six', 'small', 'foxes']"
      ]
     },
     "execution_count": 174,
     "metadata": {},
     "output_type": "execute_result"
    }
   ],
   "source": [
    "b = [\"saw\", \"small\", \"He\", \"foxes\", \"six\"]\n",
    "\n",
    "b.sort(key=len)\n",
    "b"
   ]
  },
  {
   "cell_type": "code",
   "execution_count": 175,
   "id": "00f63839",
   "metadata": {},
   "outputs": [
    {
     "data": {
      "text/plain": [
       "['saw', 'six', 'small', 'foxes']"
      ]
     },
     "execution_count": 175,
     "metadata": {},
     "output_type": "execute_result"
    }
   ],
   "source": [
    "b[1:5]"
   ]
  },
  {
   "cell_type": "code",
   "execution_count": 176,
   "id": "c53d7325",
   "metadata": {},
   "outputs": [
    {
     "data": {
      "text/plain": [
       "['He', 'saw', 'seven', 'big', 'foxes']"
      ]
     },
     "execution_count": 176,
     "metadata": {},
     "output_type": "execute_result"
    }
   ],
   "source": [
    "b[2:4] = ['seven', 'big']\n",
    "b"
   ]
  },
  {
   "cell_type": "code",
   "execution_count": 177,
   "id": "d34ff895",
   "metadata": {},
   "outputs": [
    {
     "data": {
      "text/plain": [
       "['He', 'saw', 'seven', 'big']"
      ]
     },
     "execution_count": 177,
     "metadata": {},
     "output_type": "execute_result"
    }
   ],
   "source": [
    "b[:4]"
   ]
  },
  {
   "cell_type": "code",
   "execution_count": 178,
   "id": "caafaece",
   "metadata": {},
   "outputs": [
    {
     "data": {
      "text/plain": [
       "['seven', 'big', 'foxes']"
      ]
     },
     "execution_count": 178,
     "metadata": {},
     "output_type": "execute_result"
    }
   ],
   "source": [
    "b[2:]"
   ]
  },
  {
   "cell_type": "code",
   "execution_count": 179,
   "id": "1b8a4f4d",
   "metadata": {},
   "outputs": [
    {
     "data": {
      "text/plain": [
       "'big'"
      ]
     },
     "execution_count": 179,
     "metadata": {},
     "output_type": "execute_result"
    }
   ],
   "source": [
    "b[-2]"
   ]
  },
  {
   "cell_type": "code",
   "execution_count": 180,
   "id": "a94cc045",
   "metadata": {},
   "outputs": [
    {
     "data": {
      "text/plain": [
       "['seven', 'big', 'foxes']"
      ]
     },
     "execution_count": 180,
     "metadata": {},
     "output_type": "execute_result"
    }
   ],
   "source": [
    "b[-3:]"
   ]
  },
  {
   "cell_type": "code",
   "execution_count": 181,
   "id": "2eb39631",
   "metadata": {},
   "outputs": [
    {
     "data": {
      "text/plain": [
       "['He', 'saw']"
      ]
     },
     "execution_count": 181,
     "metadata": {},
     "output_type": "execute_result"
    }
   ],
   "source": [
    "b[:-3]"
   ]
  },
  {
   "cell_type": "code",
   "execution_count": 182,
   "id": "6671b416",
   "metadata": {},
   "outputs": [
    {
     "data": {
      "text/plain": [
       "['He', 'seven', 'foxes']"
      ]
     },
     "execution_count": 182,
     "metadata": {},
     "output_type": "execute_result"
    }
   ],
   "source": [
    "b[::2]"
   ]
  },
  {
   "cell_type": "markdown",
   "id": "99e39ee9",
   "metadata": {},
   "source": [
    "Reversing a list or a tuple"
   ]
  },
  {
   "cell_type": "code",
   "execution_count": 183,
   "id": "4c9154d5",
   "metadata": {},
   "outputs": [
    {
     "data": {
      "text/plain": [
       "['foxes', 'big', 'seven', 'saw', 'He']"
      ]
     },
     "execution_count": 183,
     "metadata": {},
     "output_type": "execute_result"
    }
   ],
   "source": [
    "b[::-1]"
   ]
  },
  {
   "cell_type": "markdown",
   "id": "59ea6efb",
   "metadata": {},
   "source": [
    "# Dictionary"
   ]
  },
  {
   "cell_type": "code",
   "execution_count": 184,
   "id": "86ec529f",
   "metadata": {},
   "outputs": [],
   "source": [
    "person = {}"
   ]
  },
  {
   "cell_type": "code",
   "execution_count": 185,
   "id": "454499f8",
   "metadata": {},
   "outputs": [
    {
     "data": {
      "text/plain": [
       "{'name': 'albaraa', 'job': 'software engineer'}"
      ]
     },
     "execution_count": 185,
     "metadata": {},
     "output_type": "execute_result"
    }
   ],
   "source": [
    "person['name'] = 'albaraa'\n",
    "person['job'] = 'software engineer'\n",
    "person"
   ]
  },
  {
   "cell_type": "code",
   "execution_count": 186,
   "id": "f6d30700",
   "metadata": {},
   "outputs": [
    {
     "data": {
      "text/plain": [
       "2000"
      ]
     },
     "execution_count": 186,
     "metadata": {},
     "output_type": "execute_result"
    }
   ],
   "source": [
    "school = {\n",
    "    'location' : 'Turkey',\n",
    "    'student_count' : 2000\n",
    "}\n",
    "school['student_count']"
   ]
  },
  {
   "cell_type": "code",
   "execution_count": 187,
   "id": "7b602180",
   "metadata": {},
   "outputs": [
    {
     "data": {
      "text/plain": [
       "True"
      ]
     },
     "execution_count": 187,
     "metadata": {},
     "output_type": "execute_result"
    }
   ],
   "source": [
    "'name' in person"
   ]
  },
  {
   "cell_type": "code",
   "execution_count": 188,
   "id": "1ddf8407",
   "metadata": {},
   "outputs": [
    {
     "data": {
      "text/plain": [
       "{'name': 'albaraa'}"
      ]
     },
     "execution_count": 188,
     "metadata": {},
     "output_type": "execute_result"
    }
   ],
   "source": [
    "del person['job']\n",
    "person"
   ]
  },
  {
   "cell_type": "code",
   "execution_count": 189,
   "id": "4992db92",
   "metadata": {},
   "outputs": [
    {
     "data": {
      "text/plain": [
       "'Turkey'"
      ]
     },
     "execution_count": 189,
     "metadata": {},
     "output_type": "execute_result"
    }
   ],
   "source": [
    "school.pop('location')"
   ]
  },
  {
   "cell_type": "code",
   "execution_count": 190,
   "id": "af03d559",
   "metadata": {},
   "outputs": [],
   "source": [
    "d1 = {\n",
    "    'a' : 1,\n",
    "    'b' : 'some value',\n",
    "    'c' : 'another value'\n",
    "}"
   ]
  },
  {
   "cell_type": "code",
   "execution_count": 191,
   "id": "89270641",
   "metadata": {},
   "outputs": [
    {
     "data": {
      "text/plain": [
       "['a', 'b', 'c']"
      ]
     },
     "execution_count": 191,
     "metadata": {},
     "output_type": "execute_result"
    }
   ],
   "source": [
    "list(d1.keys())"
   ]
  },
  {
   "cell_type": "code",
   "execution_count": 192,
   "id": "5ce546bb",
   "metadata": {},
   "outputs": [
    {
     "data": {
      "text/plain": [
       "[1, 'some value', 'another value']"
      ]
     },
     "execution_count": 192,
     "metadata": {},
     "output_type": "execute_result"
    }
   ],
   "source": [
    "list(d1.values())"
   ]
  },
  {
   "cell_type": "code",
   "execution_count": 193,
   "id": "666f1631",
   "metadata": {},
   "outputs": [
    {
     "data": {
      "text/plain": [
       "[('a', 1), ('b', 'some value'), ('c', 'another value')]"
      ]
     },
     "execution_count": 193,
     "metadata": {},
     "output_type": "execute_result"
    }
   ],
   "source": [
    "list(d1.items())"
   ]
  },
  {
   "cell_type": "code",
   "execution_count": 194,
   "id": "7561f83a",
   "metadata": {},
   "outputs": [
    {
     "data": {
      "text/plain": [
       "['a', 'b', 'c']"
      ]
     },
     "execution_count": 194,
     "metadata": {},
     "output_type": "execute_result"
    }
   ],
   "source": [
    "list(d1)"
   ]
  },
  {
   "cell_type": "code",
   "execution_count": 195,
   "id": "4cbf4d8b",
   "metadata": {},
   "outputs": [
    {
     "data": {
      "text/plain": [
       "{'a': 1, 'b': 'ssup foo', 'c': 12}"
      ]
     },
     "execution_count": 195,
     "metadata": {},
     "output_type": "execute_result"
    }
   ],
   "source": [
    "d2 = {\n",
    "    'b' : 'ssup foo',\n",
    "    'c' : 12\n",
    "}\n",
    "\n",
    "d1.update(d2)\n",
    "d1"
   ]
  },
  {
   "cell_type": "code",
   "execution_count": 196,
   "id": "ec95838c",
   "metadata": {},
   "outputs": [
    {
     "data": {
      "text/plain": [
       "[(0, 0), (1, 1), (2, 2)]"
      ]
     },
     "execution_count": 196,
     "metadata": {},
     "output_type": "execute_result"
    }
   ],
   "source": [
    "a = range(4)\n",
    "b =  range(3)\n",
    "list(zip(a, b))"
   ]
  },
  {
   "cell_type": "code",
   "execution_count": 197,
   "id": "e278b782",
   "metadata": {},
   "outputs": [
    {
     "data": {
      "text/plain": [
       "range(0, 4)"
      ]
     },
     "execution_count": 197,
     "metadata": {},
     "output_type": "execute_result"
    }
   ],
   "source": [
    "a"
   ]
  },
  {
   "cell_type": "code",
   "execution_count": 198,
   "id": "90e7a5c0",
   "metadata": {},
   "outputs": [
    {
     "data": {
      "text/plain": [
       "range(0, 3)"
      ]
     },
     "execution_count": 198,
     "metadata": {},
     "output_type": "execute_result"
    }
   ],
   "source": [
    "b"
   ]
  },
  {
   "cell_type": "code",
   "execution_count": 199,
   "id": "28e4d858",
   "metadata": {},
   "outputs": [
    {
     "data": {
      "text/plain": [
       "{0: 0, 1: 1, 2: 2}"
      ]
     },
     "execution_count": 199,
     "metadata": {},
     "output_type": "execute_result"
    }
   ],
   "source": [
    "dict(zip(a,b))"
   ]
  },
  {
   "cell_type": "code",
   "execution_count": 200,
   "id": "4339c90d",
   "metadata": {},
   "outputs": [],
   "source": [
    "zip?"
   ]
  },
  {
   "cell_type": "code",
   "execution_count": 201,
   "id": "79ee720f",
   "metadata": {},
   "outputs": [
    {
     "data": {
      "text/plain": [
       "{'a': ['apple', 'atom'], 'b': ['bat', 'bar', 'book']}"
      ]
     },
     "execution_count": 201,
     "metadata": {},
     "output_type": "execute_result"
    }
   ],
   "source": [
    "words = [\"apple\", \"bat\", \"bar\", \"atom\", \"book\"]\n",
    "by_letter = {}\n",
    "for word in words:\n",
    "    letter = word[0]\n",
    "    if letter not in by_letter:\n",
    "        by_letter[letter] = [word]\n",
    "    else:\n",
    "        by_letter[letter].append(word)\n",
    "        \n",
    "by_letter"
   ]
  },
  {
   "cell_type": "code",
   "execution_count": 202,
   "id": "8ecaaac4",
   "metadata": {},
   "outputs": [
    {
     "data": {
      "text/plain": [
       "{'a': ['apple', 'atom'], 'b': ['bat', 'bar', 'book']}"
      ]
     },
     "execution_count": 202,
     "metadata": {},
     "output_type": "execute_result"
    }
   ],
   "source": [
    "from collections import defaultdict\n",
    "\n",
    "by_letter_1 = defaultdict(list)\n",
    "\n",
    "for word in words:\n",
    "    by_letter_1[word[0]].append(word)\n",
    "    \n",
    "dict(by_letter_1.items())"
   ]
  },
  {
   "cell_type": "code",
   "execution_count": 203,
   "id": "8a1962da",
   "metadata": {},
   "outputs": [
    {
     "data": {
      "text/plain": [
       "-4916935996727764418"
      ]
     },
     "execution_count": 203,
     "metadata": {},
     "output_type": "execute_result"
    }
   ],
   "source": [
    "hash('string')"
   ]
  },
  {
   "cell_type": "code",
   "execution_count": 204,
   "id": "aea4a7ca",
   "metadata": {},
   "outputs": [
    {
     "ename": "TypeError",
     "evalue": "unhashable type: 'list'",
     "output_type": "error",
     "traceback": [
      "\u001b[1;31m---------------------------------------------------------------------------\u001b[0m",
      "\u001b[1;31mTypeError\u001b[0m                                 Traceback (most recent call last)",
      "Cell \u001b[1;32mIn[204], line 1\u001b[0m\n\u001b[1;32m----> 1\u001b[0m \u001b[38;5;28;43mhash\u001b[39;49m\u001b[43m(\u001b[49m\u001b[43m(\u001b[49m\u001b[43m[\u001b[49m\u001b[38;5;241;43m1\u001b[39;49m\u001b[43m]\u001b[49m\u001b[43m)\u001b[49m\u001b[43m)\u001b[49m\n",
      "\u001b[1;31mTypeError\u001b[0m: unhashable type: 'list'"
     ]
    }
   ],
   "source": [
    "hash(([1]))"
   ]
  },
  {
   "cell_type": "code",
   "execution_count": null,
   "id": "df850d9f",
   "metadata": {},
   "outputs": [],
   "source": [
    "hash?"
   ]
  },
  {
   "cell_type": "code",
   "execution_count": null,
   "id": "f58d43f8",
   "metadata": {},
   "outputs": [],
   "source": [
    "d = {}\n",
    "d[[1,2,3]] = 4"
   ]
  },
  {
   "cell_type": "markdown",
   "id": "855476f0",
   "metadata": {},
   "source": [
    "While the values of a dictionary can be any Python object, the keys generally have to be immutable objects like scalar types (int, float, string) or tuples (all the objects in the tuple need to be immutable, too). The technical term here is hashability. You can check whether an object is hashable (can be used as a key in a dictionary) with the hash function:"
   ]
  },
  {
   "cell_type": "markdown",
   "id": "79c93f72",
   "metadata": {},
   "source": [
    "# Set"
   ]
  },
  {
   "cell_type": "code",
   "execution_count": null,
   "id": "f86a3cd5",
   "metadata": {},
   "outputs": [],
   "source": [
    "set([2,2,2,1,3,3])"
   ]
  },
  {
   "cell_type": "markdown",
   "id": "dd6422b3",
   "metadata": {},
   "source": [
    "A set only contains unique elements"
   ]
  },
  {
   "cell_type": "code",
   "execution_count": null,
   "id": "610532c7",
   "metadata": {},
   "outputs": [],
   "source": [
    "a = {1, 2, 3, 4, 5}\n",
    "\n",
    "b = {3, 4, 5, 6, 7, 8}"
   ]
  },
  {
   "cell_type": "code",
   "execution_count": null,
   "id": "69b69f5b",
   "metadata": {},
   "outputs": [],
   "source": [
    "a.union(b)"
   ]
  },
  {
   "cell_type": "code",
   "execution_count": null,
   "id": "2235f9ab",
   "metadata": {},
   "outputs": [],
   "source": [
    "a | b"
   ]
  },
  {
   "cell_type": "code",
   "execution_count": null,
   "id": "3ab09c3f",
   "metadata": {},
   "outputs": [],
   "source": [
    "a.intersection(b)"
   ]
  },
  {
   "cell_type": "code",
   "execution_count": 135,
   "id": "a5dcc3de",
   "metadata": {},
   "outputs": [
    {
     "data": {
      "text/plain": [
       "{3, 4, 5, 6, 7, 8}"
      ]
     },
     "execution_count": 135,
     "metadata": {},
     "output_type": "execute_result"
    }
   ],
   "source": [
    "a & b"
   ]
  },
  {
   "cell_type": "code",
   "execution_count": 134,
   "id": "f6614c38",
   "metadata": {},
   "outputs": [
    {
     "data": {
      "text/plain": [
       "{1, 2, 3, 4, 5, 6, 7, 8}"
      ]
     },
     "execution_count": 134,
     "metadata": {},
     "output_type": "execute_result"
    }
   ],
   "source": [
    "a.update(b)\n",
    "a"
   ]
  },
  {
   "cell_type": "markdown",
   "id": "9af2c262",
   "metadata": {},
   "source": [
    "If you pass an input that is not a set to methods like union and intersection, Python will convert the input to a set before executing the operation. When using the binary operators, both objects must already be sets."
   ]
  },
  {
   "cell_type": "code",
   "execution_count": 205,
   "id": "de1a65e5",
   "metadata": {},
   "outputs": [
    {
     "data": {
      "text/plain": [
       "{(1, 2, 3, 4)}"
      ]
     },
     "execution_count": 205,
     "metadata": {},
     "output_type": "execute_result"
    }
   ],
   "source": [
    "my_data = [1, 2, 3, 4]\n",
    "\n",
    "my_set = {tuple(my_data)}\n",
    "\n",
    "my_set\n",
    "{(1, 2, 3, 4)}"
   ]
  },
  {
   "cell_type": "markdown",
   "id": "72b0146a",
   "metadata": {},
   "source": [
    "Like dictionary keys, set elements generally must be immutable, and they must be hashable (which means that calling hash on a value does not raise an exception). In order to store list-like elements (or other mutable sequences) in a set, you can convert them to tuples:"
   ]
  },
  {
   "cell_type": "code",
   "execution_count": 206,
   "id": "027dd8c0",
   "metadata": {},
   "outputs": [
    {
     "data": {
      "text/plain": [
       "True"
      ]
     },
     "execution_count": 206,
     "metadata": {},
     "output_type": "execute_result"
    }
   ],
   "source": [
    "{1, 2, 3} == {3, 2, 1}"
   ]
  },
  {
   "cell_type": "markdown",
   "id": "b981e6f7",
   "metadata": {},
   "source": [
    "Sets are equal if and only if their contents are equal:"
   ]
  },
  {
   "cell_type": "markdown",
   "id": "044c1ee6",
   "metadata": {},
   "source": [
    "# Built-In Sequence Functions"
   ]
  },
  {
   "cell_type": "code",
   "execution_count": 10,
   "id": "bb3663c5",
   "metadata": {},
   "outputs": [
    {
     "name": "stdout",
     "output_type": "stream",
     "text": [
      "[0] : 1\n",
      "[1] : 3\n",
      "[2] : 5\n",
      "[3] : 7\n",
      "[4] : 9\n"
     ]
    }
   ],
   "source": [
    "list1 = list(range(1,10,2))\n",
    "for i, value in enumerate(list1):\n",
    "    print(f\"[{i}] : {value}\")"
   ]
  },
  {
   "cell_type": "code",
   "execution_count": 11,
   "id": "845ade8a",
   "metadata": {},
   "outputs": [
    {
     "data": {
      "text/plain": [
       "[0, 1, 2, 3, 4, 6, 7, 9]"
      ]
     },
     "execution_count": 11,
     "metadata": {},
     "output_type": "execute_result"
    }
   ],
   "source": [
    "sorted([7,1,4,3,6,9,2,0])"
   ]
  },
  {
   "cell_type": "code",
   "execution_count": 12,
   "id": "a1eb0843",
   "metadata": {},
   "outputs": [
    {
     "data": {
      "text/plain": [
       "[(0, 56), (1, 43), (2, 15)]"
      ]
     },
     "execution_count": 12,
     "metadata": {},
     "output_type": "execute_result"
    }
   ],
   "source": [
    "seq1 = [0, 1, 2]\n",
    "seq2 = [56, 43, 15]\n",
    "list(zip(seq1, seq2))"
   ]
  },
  {
   "cell_type": "markdown",
   "id": "16e7c405",
   "metadata": {},
   "source": [
    "zip can take an arbitrary number of sequences, and the number of elements it produces is determined by the shortest sequence"
   ]
  },
  {
   "cell_type": "code",
   "execution_count": 13,
   "id": "4d739070",
   "metadata": {},
   "outputs": [
    {
     "name": "stdout",
     "output_type": "stream",
     "text": [
      "0: 0, 56\n",
      "1: 1, 43\n",
      "2: 2, 15\n"
     ]
    }
   ],
   "source": [
    "for index, (a, b) in enumerate(zip(seq1, seq2)):\n",
    "    print(f\"{index}: {a}, {b}\")"
   ]
  },
  {
   "cell_type": "code",
   "execution_count": 14,
   "id": "820d79ba",
   "metadata": {},
   "outputs": [
    {
     "data": {
      "text/plain": [
       "[9, 8, 7, 6, 5, 4, 3, 2, 1, 0]"
      ]
     },
     "execution_count": 14,
     "metadata": {},
     "output_type": "execute_result"
    }
   ],
   "source": [
    "list(reversed(range(10)))"
   ]
  },
  {
   "cell_type": "markdown",
   "id": "356e4c9f",
   "metadata": {},
   "source": [
    "# List, Set, and Dictionary Comprehensions"
   ]
  },
  {
   "cell_type": "markdown",
   "id": "607e6b60",
   "metadata": {},
   "source": [
    "List Comprehension"
   ]
  },
  {
   "cell_type": "raw",
   "id": "b00a4019",
   "metadata": {},
   "source": [
    "[expr for value in collection if condition]"
   ]
  },
  {
   "cell_type": "code",
   "execution_count": 16,
   "id": "9567eec0",
   "metadata": {},
   "outputs": [
    {
     "data": {
      "text/plain": [
       "['BAT', 'CAR', 'DOVE', 'PYTHON']"
      ]
     },
     "execution_count": 16,
     "metadata": {},
     "output_type": "execute_result"
    }
   ],
   "source": [
    "strings = [\"a\", \"as\", \"bat\", \"car\", \"dove\", \"python\"]\n",
    "\n",
    "[x.upper() for x in strings if len(x) > 2]"
   ]
  },
  {
   "cell_type": "markdown",
   "id": "8af0c5c0",
   "metadata": {},
   "source": [
    "Dictionary and Set Comprehensions"
   ]
  },
  {
   "cell_type": "raw",
   "id": "b50a8515",
   "metadata": {},
   "source": [
    "dict_comp = {key-expr: value-expr for value in collection if condition}"
   ]
  },
  {
   "cell_type": "raw",
   "id": "6a2df817",
   "metadata": {},
   "source": [
    "set_comp = {expr for value in collection if condition}"
   ]
  },
  {
   "cell_type": "code",
   "execution_count": 18,
   "id": "190b331c",
   "metadata": {},
   "outputs": [
    {
     "data": {
      "text/plain": [
       "{1, 2, 3, 4, 6}"
      ]
     },
     "execution_count": 18,
     "metadata": {},
     "output_type": "execute_result"
    }
   ],
   "source": [
    "unique_lengths = {len(x) for x in strings}\n",
    "unique_lengths"
   ]
  },
  {
   "cell_type": "code",
   "execution_count": 19,
   "id": "78cb162b",
   "metadata": {},
   "outputs": [
    {
     "data": {
      "text/plain": [
       "{1, 2, 3, 4, 6}"
      ]
     },
     "execution_count": 19,
     "metadata": {},
     "output_type": "execute_result"
    }
   ],
   "source": [
    "set(map(len, strings))"
   ]
  },
  {
   "cell_type": "code",
   "execution_count": 21,
   "id": "51a0bd7a",
   "metadata": {},
   "outputs": [
    {
     "data": {
      "text/plain": [
       "{'a': 0, 'as': 1, 'bat': 2, 'car': 3, 'dove': 4, 'python': 5}"
      ]
     },
     "execution_count": 21,
     "metadata": {},
     "output_type": "execute_result"
    }
   ],
   "source": [
    "loc_mapping = {value: index for index, value in enumerate(strings)}\n",
    "loc_mapping"
   ]
  },
  {
   "cell_type": "markdown",
   "id": "8783dc6a",
   "metadata": {},
   "source": [
    "Nested List Comprehensions"
   ]
  },
  {
   "cell_type": "code",
   "execution_count": 22,
   "id": "d7c19e8e",
   "metadata": {},
   "outputs": [],
   "source": [
    "all_data = [[\"John\", \"Emily\", \"Michael\", \"Mary\", \"Steven\"],\n",
    "             [\"Maria\", \"Juan\", \"Javier\", \"Natalia\", \"Pilar\"]]"
   ]
  },
  {
   "cell_type": "code",
   "execution_count": 23,
   "id": "c8c4dc6a",
   "metadata": {},
   "outputs": [
    {
     "data": {
      "text/plain": [
       "['Maria', 'Natalia']"
      ]
     },
     "execution_count": 23,
     "metadata": {},
     "output_type": "execute_result"
    }
   ],
   "source": [
    "two_a = [name for names in all_data for name in names if name.count(\"a\") >= 2]\n",
    "two_a"
   ]
  },
  {
   "cell_type": "markdown",
   "id": "32b30b81",
   "metadata": {},
   "source": [
    "Note: There is no tuple comprehension"
   ]
  },
  {
   "cell_type": "markdown",
   "id": "3dfa5ec6",
   "metadata": {},
   "source": [
    "# Functions"
   ]
  },
  {
   "cell_type": "code",
   "execution_count": 24,
   "id": "897f02f6",
   "metadata": {},
   "outputs": [
    {
     "data": {
      "text/plain": [
       "3"
      ]
     },
     "execution_count": 24,
     "metadata": {},
     "output_type": "execute_result"
    }
   ],
   "source": [
    "def myfunction(x, y):\n",
    "    return x + y\n",
    "\n",
    "myfunction(1, 2)"
   ]
  },
  {
   "cell_type": "markdown",
   "id": "23262304",
   "metadata": {},
   "source": [
    "If Python reaches the end of a function without encountering a return statement, None is returned automatically"
   ]
  },
  {
   "cell_type": "markdown",
   "id": "4f9ca50a",
   "metadata": {},
   "source": [
    "Each function can have positional arguments and keyword arguments. Keyword arguments are most commonly used to specify default values or optional arguments. "
   ]
  },
  {
   "cell_type": "code",
   "execution_count": 25,
   "id": "23d566c1",
   "metadata": {},
   "outputs": [
    {
     "data": {
      "text/plain": [
       "7.5"
      ]
     },
     "execution_count": 25,
     "metadata": {},
     "output_type": "execute_result"
    }
   ],
   "source": [
    "def myfunction2(x, y, z=1.5):\n",
    "    if z > 1:\n",
    "        return z * (x + y)\n",
    "    else:\n",
    "        return z / (x + y)\n",
    "    \n",
    "myfunction2(2, 3)"
   ]
  },
  {
   "cell_type": "code",
   "execution_count": 26,
   "id": "12bdd855",
   "metadata": {},
   "outputs": [
    {
     "data": {
      "text/plain": [
       "0.2"
      ]
     },
     "execution_count": 26,
     "metadata": {},
     "output_type": "execute_result"
    }
   ],
   "source": [
    "myfunction2(2, 3, 1)"
   ]
  },
  {
   "cell_type": "markdown",
   "id": "03b5da76",
   "metadata": {},
   "source": [
    "# Namespaces, Scope, and Local Functions"
   ]
  },
  {
   "cell_type": "markdown",
   "id": "e3028b34",
   "metadata": {},
   "source": [
    "A variable scope in Python is a namespace. Any variables that are assigned within a function by default are assigned to the local namespace. The local namespace is created when the function is called and is immediately populated by the function’s arguments. After the function is finished, the local namespace is destroyed."
   ]
  },
  {
   "cell_type": "code",
   "execution_count": 27,
   "id": "0077013b",
   "metadata": {},
   "outputs": [
    {
     "name": "stdout",
     "output_type": "stream",
     "text": [
      "[]\n"
     ]
    }
   ],
   "source": [
    "a = None\n",
    "\n",
    "def bind_a_variable():\n",
    "    global a\n",
    "    a = []\n",
    "bind_a_variable()\n",
    "\n",
    "print(a)"
   ]
  },
  {
   "cell_type": "markdown",
   "id": "5e3bef26",
   "metadata": {},
   "source": [
    "Assigning variables outside of the function's scope is possible, but those variables must be declared explicitly using either the global or nonlocal keywords"
   ]
  },
  {
   "cell_type": "markdown",
   "id": "9e0dfed7",
   "metadata": {},
   "source": [
    "Caution\n",
    "I generally discourage use of the global keyword. Typically, global variables are used to store some kind of state in a system. If you find yourself using a lot of them, it may indicate a need for object-oriented programming (using classes)."
   ]
  },
  {
   "cell_type": "markdown",
   "id": "68347505",
   "metadata": {},
   "source": [
    "# Returning Multiple Values"
   ]
  },
  {
   "cell_type": "code",
   "execution_count": 32,
   "id": "b2a9d0ad",
   "metadata": {},
   "outputs": [
    {
     "data": {
      "text/plain": [
       "(5, 6, 7)"
      ]
     },
     "execution_count": 32,
     "metadata": {},
     "output_type": "execute_result"
    }
   ],
   "source": [
    "def f():\n",
    "    a = 5; b = 6; c = 7\n",
    "    return a, b, c\n",
    "\n",
    "value = f()\n",
    "value"
   ]
  },
  {
   "cell_type": "code",
   "execution_count": 36,
   "id": "6aa85ff6",
   "metadata": {},
   "outputs": [
    {
     "data": {
      "text/plain": [
       "{'a': 5, 'b': 6, 'c': 7}"
      ]
     },
     "execution_count": 36,
     "metadata": {},
     "output_type": "execute_result"
    }
   ],
   "source": [
    "def f():\n",
    "    a = 5; b = 6; c = 7\n",
    "    return {'a' : a, 'b' : b, 'c' : c}\n",
    "value = f()\n",
    "value"
   ]
  },
  {
   "cell_type": "markdown",
   "id": "6f22cc3f",
   "metadata": {},
   "source": [
    "# Lambda Functions"
   ]
  },
  {
   "cell_type": "code",
   "execution_count": 38,
   "id": "27b7984f",
   "metadata": {},
   "outputs": [],
   "source": [
    "strings = ['foo', 'card', 'bar', 'aaa', 'abab']"
   ]
  },
  {
   "cell_type": "markdown",
   "id": "9b588470",
   "metadata": {},
   "source": [
    "Sort strings by the number of distinct letters in each string:"
   ]
  },
  {
   "cell_type": "code",
   "execution_count": 41,
   "id": "d28c1213",
   "metadata": {},
   "outputs": [
    {
     "data": {
      "text/plain": [
       "['aaa', 'foo', 'abab', 'bar', 'card']"
      ]
     },
     "execution_count": 41,
     "metadata": {},
     "output_type": "execute_result"
    }
   ],
   "source": [
    "strings.sort(key=lambda x: len(set(x)))\n",
    "strings"
   ]
  },
  {
   "cell_type": "markdown",
   "id": "f1018d60",
   "metadata": {},
   "source": [
    "# Generators"
   ]
  },
  {
   "cell_type": "markdown",
   "id": "e393d590",
   "metadata": {},
   "source": [
    "An iterator is any object that will yield objects to the Python interpreter when used in a context like a for loop."
   ]
  },
  {
   "cell_type": "code",
   "execution_count": 42,
   "id": "31bc7182",
   "metadata": {},
   "outputs": [
    {
     "data": {
      "text/plain": [
       "<dict_keyiterator at 0x2160fb53880>"
      ]
     },
     "execution_count": 42,
     "metadata": {},
     "output_type": "execute_result"
    }
   ],
   "source": [
    "some_dict = {\"a\": 1, \"b\": 2, \"c\": 3}\n",
    "dict_iterator = iter(some_dict)\n",
    "dict_iterator"
   ]
  },
  {
   "cell_type": "code",
   "execution_count": 43,
   "id": "df101a73",
   "metadata": {},
   "outputs": [
    {
     "data": {
      "text/plain": [
       "['a', 'b', 'c']"
      ]
     },
     "execution_count": 43,
     "metadata": {},
     "output_type": "execute_result"
    }
   ],
   "source": [
    "list(dict_iterator)"
   ]
  },
  {
   "cell_type": "markdown",
   "id": "4f62ea8e",
   "metadata": {},
   "source": [
    "A generator is a convenient way, similar to writing a normal function, to construct a new iterable object. Whereas normal functions execute and return a single result at a time, generators can return a sequence of multiple values by pausing and resuming execution each time the generator is used. To create a generator, use the yield keyword instead of return in a function:"
   ]
  },
  {
   "cell_type": "code",
   "execution_count": 44,
   "id": "ee4f69e0",
   "metadata": {},
   "outputs": [],
   "source": [
    "def squares(n=10):\n",
    "    print(f\"Generating squares from 1 to {n ** 2}\")\n",
    "    for i in range(1, n + 1):\n",
    "        yield i ** 2"
   ]
  },
  {
   "cell_type": "code",
   "execution_count": 45,
   "id": "a49bfe93",
   "metadata": {},
   "outputs": [
    {
     "data": {
      "text/plain": [
       "<generator object squares at 0x000002160FA2F060>"
      ]
     },
     "execution_count": 45,
     "metadata": {},
     "output_type": "execute_result"
    }
   ],
   "source": [
    "gen = squares()\n",
    "gen"
   ]
  },
  {
   "cell_type": "markdown",
   "id": "31e94ecd",
   "metadata": {},
   "source": [
    "It is not until you request elements from the generator that it begins executing its code:"
   ]
  },
  {
   "cell_type": "code",
   "execution_count": 46,
   "id": "1e5acd1c",
   "metadata": {},
   "outputs": [
    {
     "name": "stdout",
     "output_type": "stream",
     "text": [
      "Generating squares from 1 to 100\n",
      "1\n",
      "4\n",
      "9\n",
      "16\n",
      "25\n",
      "36\n",
      "49\n",
      "64\n",
      "81\n",
      "100\n"
     ]
    }
   ],
   "source": [
    "for x in gen:\n",
    "    print(x)"
   ]
  },
  {
   "cell_type": "markdown",
   "id": "b3a7f17d",
   "metadata": {},
   "source": [
    "Note:\n",
    "Since generators produce output one element at a time versus an entire list all at once, it can help your program use less memory."
   ]
  },
  {
   "cell_type": "markdown",
   "id": "9ad18356",
   "metadata": {},
   "source": [
    "Generator expressions"
   ]
  },
  {
   "cell_type": "code",
   "execution_count": 47,
   "id": "fe1f0bae",
   "metadata": {},
   "outputs": [
    {
     "data": {
      "text/plain": [
       "<generator object <genexpr> at 0x000002160FEEC200>"
      ]
     },
     "execution_count": 47,
     "metadata": {},
     "output_type": "execute_result"
    }
   ],
   "source": [
    "gen = (x ** 2 for x in range(10))\n",
    "\n",
    "gen"
   ]
  },
  {
   "cell_type": "markdown",
   "id": "63930526",
   "metadata": {},
   "source": [
    "itertools"
   ]
  },
  {
   "cell_type": "code",
   "execution_count": 49,
   "id": "8c0edf3f",
   "metadata": {},
   "outputs": [
    {
     "name": "stdout",
     "output_type": "stream",
     "text": [
      "A ['Alan', 'Adam']\n",
      "W ['Wes', 'Will']\n",
      "A ['Albert']\n",
      "S ['Steven']\n"
     ]
    }
   ],
   "source": [
    "import itertools\n",
    "def first_letter(x):\n",
    "    return x[0]\n",
    "\n",
    "names = [\"Alan\", \"Adam\", \"Wes\", \"Will\", \"Albert\", \"Steven\"]\n",
    "\n",
    "for letter, names in itertools.groupby(names, first_letter):\n",
    "    print(letter, list(names)) # names is a generator"
   ]
  },
  {
   "cell_type": "markdown",
   "id": "030827aa",
   "metadata": {},
   "source": [
    "# Errors and Exception Handling"
   ]
  },
  {
   "cell_type": "code",
   "execution_count": 1,
   "id": "cef372ce",
   "metadata": {},
   "outputs": [
    {
     "data": {
      "text/plain": [
       "1.234"
      ]
     },
     "execution_count": 1,
     "metadata": {},
     "output_type": "execute_result"
    }
   ],
   "source": [
    "float(\"1.234\")"
   ]
  },
  {
   "cell_type": "code",
   "execution_count": 2,
   "id": "7c9bcab2",
   "metadata": {},
   "outputs": [
    {
     "ename": "ValueError",
     "evalue": "could not convert string to float: 'something'",
     "output_type": "error",
     "traceback": [
      "\u001b[0;31m---------------------------------------------------------------------------\u001b[0m",
      "\u001b[0;31mValueError\u001b[0m                                Traceback (most recent call last)",
      "Cell \u001b[0;32mIn[2], line 1\u001b[0m\n\u001b[0;32m----> 1\u001b[0m \u001b[38;5;28;43mfloat\u001b[39;49m\u001b[43m(\u001b[49m\u001b[38;5;124;43m\"\u001b[39;49m\u001b[38;5;124;43msomething\u001b[39;49m\u001b[38;5;124;43m\"\u001b[39;49m\u001b[43m)\u001b[49m\n",
      "\u001b[0;31mValueError\u001b[0m: could not convert string to float: 'something'"
     ]
    }
   ],
   "source": [
    "float(\"something\")"
   ]
  },
  {
   "cell_type": "markdown",
   "id": "36231594",
   "metadata": {},
   "source": [
    "Below is version of float that fails gracefully, returning the input argument."
   ]
  },
  {
   "cell_type": "code",
   "execution_count": 4,
   "id": "5270b396",
   "metadata": {},
   "outputs": [
    {
     "data": {
      "text/plain": [
       "1.2345"
      ]
     },
     "execution_count": 4,
     "metadata": {},
     "output_type": "execute_result"
    }
   ],
   "source": [
    "def attempt_float(x):\n",
    "    try:\n",
    "        return float(x)\n",
    "    except:\n",
    "        return x\n",
    "    \n",
    "attempt_float(\"1.2345\")"
   ]
  },
  {
   "cell_type": "code",
   "execution_count": 5,
   "id": "ff6bf18d",
   "metadata": {},
   "outputs": [
    {
     "data": {
      "text/plain": [
       "'something'"
      ]
     },
     "execution_count": 5,
     "metadata": {},
     "output_type": "execute_result"
    }
   ],
   "source": [
    "attempt_float(\"something\")"
   ]
  },
  {
   "cell_type": "markdown",
   "id": "c37a8557",
   "metadata": {},
   "source": [
    "We might want to suppress only ValueError, since a TypeError might indicate a legitimate bug in our program."
   ]
  },
  {
   "cell_type": "code",
   "execution_count": 7,
   "id": "2ba9088b",
   "metadata": {},
   "outputs": [
    {
     "ename": "TypeError",
     "evalue": "float() argument must be a string or a real number, not 'tuple'",
     "output_type": "error",
     "traceback": [
      "\u001b[0;31m---------------------------------------------------------------------------\u001b[0m",
      "\u001b[0;31mTypeError\u001b[0m                                 Traceback (most recent call last)",
      "Cell \u001b[0;32mIn[7], line 1\u001b[0m\n\u001b[0;32m----> 1\u001b[0m \u001b[38;5;28;43mfloat\u001b[39;49m\u001b[43m(\u001b[49m\u001b[43m(\u001b[49m\u001b[38;5;241;43m1\u001b[39;49m\u001b[43m,\u001b[49m\u001b[38;5;241;43m2\u001b[39;49m\u001b[43m)\u001b[49m\u001b[43m)\u001b[49m\n",
      "\u001b[0;31mTypeError\u001b[0m: float() argument must be a string or a real number, not 'tuple'"
     ]
    }
   ],
   "source": [
    "float((1,2))"
   ]
  },
  {
   "cell_type": "code",
   "execution_count": 9,
   "id": "9ba6a4be",
   "metadata": {},
   "outputs": [],
   "source": [
    "def attempt_float(x):\n",
    "    try:\n",
    "        return float(x)\n",
    "    except ValueError:\n",
    "        return x"
   ]
  },
  {
   "cell_type": "code",
   "execution_count": 10,
   "id": "86fd7f68",
   "metadata": {},
   "outputs": [
    {
     "ename": "TypeError",
     "evalue": "float() argument must be a string or a real number, not 'tuple'",
     "output_type": "error",
     "traceback": [
      "\u001b[0;31m---------------------------------------------------------------------------\u001b[0m",
      "\u001b[0;31mTypeError\u001b[0m                                 Traceback (most recent call last)",
      "Cell \u001b[0;32mIn[10], line 1\u001b[0m\n\u001b[0;32m----> 1\u001b[0m \u001b[43mattempt_float\u001b[49m\u001b[43m(\u001b[49m\u001b[43m(\u001b[49m\u001b[38;5;241;43m1\u001b[39;49m\u001b[43m,\u001b[49m\u001b[38;5;241;43m2\u001b[39;49m\u001b[43m)\u001b[49m\u001b[43m)\u001b[49m\n",
      "Cell \u001b[0;32mIn[9], line 3\u001b[0m, in \u001b[0;36mattempt_float\u001b[0;34m(x)\u001b[0m\n\u001b[1;32m      1\u001b[0m \u001b[38;5;28;01mdef\u001b[39;00m \u001b[38;5;21mattempt_float\u001b[39m(x):\n\u001b[1;32m      2\u001b[0m     \u001b[38;5;28;01mtry\u001b[39;00m:\n\u001b[0;32m----> 3\u001b[0m         \u001b[38;5;28;01mreturn\u001b[39;00m \u001b[38;5;28;43mfloat\u001b[39;49m\u001b[43m(\u001b[49m\u001b[43mx\u001b[49m\u001b[43m)\u001b[49m\n\u001b[1;32m      4\u001b[0m     \u001b[38;5;28;01mexcept\u001b[39;00m \u001b[38;5;167;01mValueError\u001b[39;00m:\n\u001b[1;32m      5\u001b[0m         \u001b[38;5;28;01mreturn\u001b[39;00m x\n",
      "\u001b[0;31mTypeError\u001b[0m: float() argument must be a string or a real number, not 'tuple'"
     ]
    }
   ],
   "source": [
    "attempt_float((1,2))"
   ]
  },
  {
   "cell_type": "markdown",
   "id": "b6343a45",
   "metadata": {},
   "source": [
    "We can catch multiple errors by writing a tuple of exception types"
   ]
  },
  {
   "cell_type": "code",
   "execution_count": 11,
   "id": "f1a7eb6b",
   "metadata": {},
   "outputs": [],
   "source": [
    "def attempt_float(x):\n",
    "    try:\n",
    "        return float(x)\n",
    "    except (ValueError, TypeError):\n",
    "        return x"
   ]
  },
  {
   "cell_type": "markdown",
   "id": "12d18a6b",
   "metadata": {},
   "source": [
    "We might want some code to be executed regardless of wether or not the code in they try block succeeds."
   ]
  },
  {
   "cell_type": "code",
   "execution_count": 14,
   "id": "edc56a6c",
   "metadata": {},
   "outputs": [],
   "source": [
    "path = 'file'\n",
    "def write_to_file(x):\n",
    "    return x\n",
    "\n",
    "f = open(path, mode=\"w\")\n",
    "\n",
    "try:\n",
    "    write_to_file(f)\n",
    "finally:\n",
    "    f.close()"
   ]
  },
  {
   "cell_type": "markdown",
   "id": "cd33a615",
   "metadata": {},
   "source": [
    "If try block succeeds we can use else "
   ]
  },
  {
   "cell_type": "code",
   "execution_count": 15,
   "id": "23e8801b",
   "metadata": {},
   "outputs": [
    {
     "name": "stdout",
     "output_type": "stream",
     "text": [
      "Succeeded\n"
     ]
    }
   ],
   "source": [
    "f = open(path, mode=\"w\")\n",
    "\n",
    "try:\n",
    "    write_to_file(f)\n",
    "except:\n",
    "    print(\"Failed\")\n",
    "else:\n",
    "    print(\"Succeeded\")\n",
    "finally:\n",
    "    f.close()"
   ]
  },
  {
   "cell_type": "code",
   "execution_count": 20,
   "id": "dc414e9f",
   "metadata": {},
   "outputs": [],
   "source": [
    "path = 'test.txt'\n",
    "f = open(path, encoding='utf-8')"
   ]
  },
  {
   "cell_type": "code",
   "execution_count": 21,
   "id": "9506a048",
   "metadata": {},
   "outputs": [
    {
     "name": "stdout",
     "output_type": "stream",
     "text": [
      "A\n",
      "\n",
      "A\n",
      "\n",
      "B\n",
      "\n",
      "D\n",
      "\n",
      "B\n",
      "\n",
      "Ad\n",
      "\n",
      "D\n",
      "\n",
      "G\n",
      "\n",
      "Asdfg\n",
      "\n",
      "Ash\n",
      "\n",
      "A\n",
      "\n",
      "Ar\n",
      "\n",
      "Te\n",
      "\n",
      "Fas\n",
      "\n",
      "Did\n",
      "\n",
      "Feh\n",
      "\n",
      "Dh\n",
      "\n",
      "S\n",
      "\n",
      "Ga\n",
      "\n",
      "Ha\n",
      "\n",
      "Rha\n",
      "\n",
      "Gdg\n",
      "\n",
      "Ads\n",
      "\n",
      "Ads\n",
      "\n",
      "Gasgas\n",
      "\n",
      "Ha\n",
      "\n",
      "Da\n",
      "\n",
      "Ty\n",
      "\n",
      "Aha\n",
      "\n"
     ]
    }
   ],
   "source": [
    "for line in f:\n",
    "    print(line)"
   ]
  },
  {
   "cell_type": "code",
   "execution_count": 23,
   "id": "ff30cdcd",
   "metadata": {},
   "outputs": [
    {
     "data": {
      "text/plain": [
       "['A',\n",
       " 'A',\n",
       " 'B',\n",
       " 'D',\n",
       " 'B',\n",
       " 'Ad',\n",
       " 'D',\n",
       " 'G',\n",
       " 'Asdfg',\n",
       " 'Ash',\n",
       " 'A',\n",
       " 'Ar',\n",
       " 'Te',\n",
       " 'Fas',\n",
       " 'Did',\n",
       " 'Feh',\n",
       " 'Dh',\n",
       " 'S',\n",
       " 'Ga',\n",
       " 'Ha',\n",
       " 'Rha',\n",
       " 'Gdg',\n",
       " 'Ads',\n",
       " 'Ads',\n",
       " 'Gasgas',\n",
       " 'Ha',\n",
       " 'Da',\n",
       " 'Ty',\n",
       " 'Aha']"
      ]
     },
     "execution_count": 23,
     "metadata": {},
     "output_type": "execute_result"
    }
   ],
   "source": [
    "lines = [x.rstrip() for x in open(path, encoding='utf-8')]\n",
    "lines"
   ]
  },
  {
   "cell_type": "code",
   "execution_count": 24,
   "id": "17aede4b",
   "metadata": {},
   "outputs": [],
   "source": [
    "f.close()"
   ]
  },
  {
   "cell_type": "markdown",
   "id": "a2306129",
   "metadata": {},
   "source": [
    "When you use open to create file objects, it is recommended to close the file when you are finished with it. Closing the file releases its resources back to the operating system.\n",
    "\n",
    "One of the ways to make it easier to clean up open files is to use the with statement:"
   ]
  },
  {
   "cell_type": "code",
   "execution_count": 25,
   "id": "67ee28f4",
   "metadata": {},
   "outputs": [],
   "source": [
    "with open(path, encoding='utf-8') as f:\n",
    "    lines = [x.strip() for x in f]"
   ]
  },
  {
   "cell_type": "markdown",
   "id": "9e31d39d",
   "metadata": {},
   "source": [
    "This will automatically close the file f when exiting the with block."
   ]
  },
  {
   "cell_type": "markdown",
   "id": "aa66c06f",
   "metadata": {},
   "source": [
    "<table border=\"1\">\n",
    "    <thead>\n",
    "        <tr>\n",
    "            <th>Mode</th>\n",
    "            <th>Description</th>\n",
    "        </tr>\n",
    "    </thead>\n",
    "    <tbody>\n",
    "        <tr>\n",
    "            <td><code>r</code></td>\n",
    "            <td>Read-only mode</td>\n",
    "        </tr>\n",
    "        <tr>\n",
    "            <td><code>w</code></td>\n",
    "            <td>Write-only mode; creates a new file (erasing the data for any file with the same name)</td>\n",
    "        </tr>\n",
    "        <tr>\n",
    "            <td><code>x</code></td>\n",
    "            <td>Write-only mode; creates a new file but fails if the file path already exists</td>\n",
    "        </tr>\n",
    "        <tr>\n",
    "            <td><code>a</code></td>\n",
    "            <td>Append to existing file (creates the file if it does not already exist)</td>\n",
    "        </tr>\n",
    "        <tr>\n",
    "            <td><code>r+</code></td>\n",
    "            <td>Read and write</td>\n",
    "        </tr>\n",
    "        <tr>\n",
    "            <td><code>b</code></td>\n",
    "            <td>Add to mode for binary files (i.e., \"rb\" or \"wb\")</td>\n",
    "        </tr>\n",
    "        <tr>\n",
    "            <td><code>t</code></td>\n",
    "            <td>Text mode for files (automatically decoding bytes to Unicode); this is the default if not specified</td>\n",
    "        </tr>\n",
    "    </tbody>\n",
    "</table>\n"
   ]
  },
  {
   "cell_type": "code",
   "execution_count": 28,
   "id": "1c6aeed0",
   "metadata": {},
   "outputs": [
    {
     "data": {
      "text/plain": [
       "'A\\nA\\nB\\nD\\nB\\n'"
      ]
     },
     "execution_count": 28,
     "metadata": {},
     "output_type": "execute_result"
    }
   ],
   "source": [
    "f1 = open(path)\n",
    "f1.read(10)"
   ]
  },
  {
   "cell_type": "code",
   "execution_count": 30,
   "id": "aa1a5f8e",
   "metadata": {},
   "outputs": [
    {
     "data": {
      "text/plain": [
       "b'A\\nA\\nB\\nD\\nB\\n'"
      ]
     },
     "execution_count": 30,
     "metadata": {},
     "output_type": "execute_result"
    }
   ],
   "source": [
    "f2 = open(path, 'rb') #Binary mode\n",
    "f2.read(10)"
   ]
  },
  {
   "cell_type": "markdown",
   "id": "d3bd5456",
   "metadata": {},
   "source": [
    "The read method advances the file object position by the number of bytes read. tell gives you the current position"
   ]
  },
  {
   "cell_type": "code",
   "execution_count": 31,
   "id": "6ebd8d26",
   "metadata": {},
   "outputs": [
    {
     "data": {
      "text/plain": [
       "10"
      ]
     },
     "execution_count": 31,
     "metadata": {},
     "output_type": "execute_result"
    }
   ],
   "source": [
    "f1.tell()"
   ]
  },
  {
   "cell_type": "code",
   "execution_count": 32,
   "id": "03265bb8",
   "metadata": {},
   "outputs": [
    {
     "data": {
      "text/plain": [
       "15"
      ]
     },
     "execution_count": 32,
     "metadata": {},
     "output_type": "execute_result"
    }
   ],
   "source": [
    "f1.read(5)\n",
    "f1.tell()"
   ]
  },
  {
   "cell_type": "code",
   "execution_count": 33,
   "id": "d3bf346c",
   "metadata": {},
   "outputs": [
    {
     "data": {
      "text/plain": [
       "'utf-8'"
      ]
     },
     "execution_count": 33,
     "metadata": {},
     "output_type": "execute_result"
    }
   ],
   "source": [
    "import sys\n",
    "sys.getdefaultencoding()"
   ]
  },
  {
   "cell_type": "markdown",
   "id": "a8f7f1ef",
   "metadata": {},
   "source": [
    "To get consistent behavior across platforms, it is best to pass an encoding (such as encoding=\"utf-8\", which is widely used) when opening files."
   ]
  },
  {
   "cell_type": "markdown",
   "id": "7d85133d",
   "metadata": {},
   "source": [
    "seek changes the file position to the indicated byte in the file:\n",
    "\n"
   ]
  },
  {
   "cell_type": "code",
   "execution_count": 34,
   "id": "90e7d333",
   "metadata": {},
   "outputs": [
    {
     "data": {
      "text/plain": [
       "3"
      ]
     },
     "execution_count": 34,
     "metadata": {},
     "output_type": "execute_result"
    }
   ],
   "source": [
    "f1.seek(3)\n",
    "f1.tell()"
   ]
  },
  {
   "cell_type": "code",
   "execution_count": 35,
   "id": "ed99bb95",
   "metadata": {},
   "outputs": [
    {
     "data": {
      "text/plain": [
       "4"
      ]
     },
     "execution_count": 35,
     "metadata": {},
     "output_type": "execute_result"
    }
   ],
   "source": [
    "f1.read(1)\n",
    "f1.tell()"
   ]
  },
  {
   "cell_type": "code",
   "execution_count": 36,
   "id": "ea833978",
   "metadata": {},
   "outputs": [],
   "source": [
    "f1.close()\n",
    "f2.close()"
   ]
  },
  {
   "cell_type": "markdown",
   "id": "cb0111f6",
   "metadata": {},
   "source": [
    "To write text to a file, you can use the file’s write or writelines methods. "
   ]
  },
  {
   "cell_type": "code",
   "execution_count": 37,
   "id": "d4ab5915",
   "metadata": {},
   "outputs": [
    {
     "data": {
      "text/plain": [
       "'test.txt'"
      ]
     },
     "execution_count": 37,
     "metadata": {},
     "output_type": "execute_result"
    }
   ],
   "source": [
    "path"
   ]
  },
  {
   "cell_type": "code",
   "execution_count": 41,
   "id": "b228d0be",
   "metadata": {},
   "outputs": [],
   "source": [
    "with open('tmp.txt', mode='x') as handle:\n",
    "    handle.writelines(x for x in open(path) if len(x) > 2)"
   ]
  },
  {
   "cell_type": "code",
   "execution_count": 42,
   "id": "3a9dffa6",
   "metadata": {},
   "outputs": [
    {
     "data": {
      "text/plain": [
       "['Ad\\n',\n",
       " 'Asdfg\\n',\n",
       " 'Ash\\n',\n",
       " 'Ar\\n',\n",
       " 'Te\\n',\n",
       " 'Fas\\n',\n",
       " 'Did\\n',\n",
       " 'Feh\\n',\n",
       " 'Dh\\n',\n",
       " 'Ga\\n',\n",
       " 'Ha\\n',\n",
       " 'Rha\\n',\n",
       " 'Gdg\\n',\n",
       " 'Ads\\n',\n",
       " 'Ads\\n',\n",
       " 'Gasgas\\n',\n",
       " 'Ha\\n',\n",
       " 'Da\\n',\n",
       " 'Ty\\n',\n",
       " 'Aha\\n']"
      ]
     },
     "execution_count": 42,
     "metadata": {},
     "output_type": "execute_result"
    }
   ],
   "source": [
    "with open('tmp.txt') as f:\n",
    "    lines = f.readlines()\n",
    "    \n",
    "lines"
   ]
  },
  {
   "cell_type": "code",
   "execution_count": null,
   "id": "23298015",
   "metadata": {},
   "outputs": [],
   "source": []
  }
 ],
 "metadata": {
  "kernelspec": {
   "display_name": "Python 3 (ipykernel)",
   "language": "python",
   "name": "python3"
  },
  "language_info": {
   "codemirror_mode": {
    "name": "ipython",
    "version": 3
   },
   "file_extension": ".py",
   "mimetype": "text/x-python",
   "name": "python",
   "nbconvert_exporter": "python",
   "pygments_lexer": "ipython3",
   "version": "3.10.9"
  }
 },
 "nbformat": 4,
 "nbformat_minor": 5
}
